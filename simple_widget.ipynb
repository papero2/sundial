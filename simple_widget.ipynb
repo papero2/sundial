{
 "cells": [
  {
   "cell_type": "code",
   "execution_count": 1,
   "metadata": {},
   "outputs": [
    {
     "data": {
      "application/vnd.jupyter.widget-view+json": {
       "model_id": "fe9a7a83a83a4030af5356c55d3ee75b",
       "version_major": 2,
       "version_minor": 0
      },
      "text/plain": [
       "interactive(children=(FloatSlider(value=1.0, description='x', max=3.0, min=-1.0), FloatSlider(value=1.0, descr…"
      ]
     },
     "metadata": {},
     "output_type": "display_data"
    }
   ],
   "source": [
    "import ipywidgets as widgets\n",
    "import matplotlib.pyplot as plt\n",
    "\n",
    "\n",
    "@widgets.interact(x=1.0, y=1.0)\n",
    "def g(x, y):\n",
    "    return (x, y)"
   ]
  },
  {
   "cell_type": "code",
   "execution_count": null,
   "metadata": {},
   "outputs": [],
   "source": []
  }
 ],
 "metadata": {
  "kernelspec": {
   "display_name": "Python 3",
   "language": "python",
   "name": "python3"
  },
  "language_info": {
   "codemirror_mode": {
    "name": "ipython",
    "version": 3
   },
   "file_extension": ".py",
   "mimetype": "text/x-python",
   "name": "python",
   "nbconvert_exporter": "python",
   "pygments_lexer": "ipython3",
   "version": "3.6.8"
  },
  "widgets": {
   "application/vnd.jupyter.widget-state+json": {
    "state": {
     "1c8160ac53d940de9ecfa5a87ed59bb4": {
      "model_module": "@jupyter-widgets/controls",
      "model_module_version": "1.4.0",
      "model_name": "FloatSliderModel",
      "state": {
       "description": "x",
       "layout": "IPY_MODEL_976e974c39e9412bba688d72d4c9f7cb",
       "max": 3,
       "min": -1,
       "step": 0.1,
       "style": "IPY_MODEL_47d9633608674e79a5fa5b264eceee68",
       "value": 1
      }
     },
     "34a45279b240490598b1026d6963ff5d": {
      "model_module": "@jupyter-widgets/controls",
      "model_module_version": "1.4.0",
      "model_name": "FloatSliderModel",
      "state": {
       "description": "y",
       "layout": "IPY_MODEL_a15d2f60b140402fb462798cb1f1ffef",
       "max": 3,
       "min": -1,
       "step": 0.1,
       "style": "IPY_MODEL_c75eedecaf5f408ba904dce53e732035",
       "value": 1
      }
     },
     "3bb61c97316742ccbb1361b64f687a87": {
      "model_module": "@jupyter-widgets/base",
      "model_module_version": "1.1.0",
      "model_name": "LayoutModel",
      "state": {}
     },
     "47d9633608674e79a5fa5b264eceee68": {
      "model_module": "@jupyter-widgets/controls",
      "model_module_version": "1.4.0",
      "model_name": "SliderStyleModel",
      "state": {
       "description_width": ""
      }
     },
     "8b100537f0c94bca83c2f2463118070a": {
      "model_module": "@jupyter-widgets/output",
      "model_module_version": "1.0.0",
      "model_name": "OutputModel",
      "state": {
       "layout": "IPY_MODEL_3bb61c97316742ccbb1361b64f687a87",
       "outputs": [
        {
         "data": {
          "text/plain": "(1.0, 1.0)"
         },
         "metadata": {},
         "output_type": "display_data"
        }
       ]
      }
     },
     "95780df73abb40c3bfdcefcbe55a3b6b": {
      "model_module": "@jupyter-widgets/base",
      "model_module_version": "1.1.0",
      "model_name": "LayoutModel",
      "state": {}
     },
     "976e974c39e9412bba688d72d4c9f7cb": {
      "model_module": "@jupyter-widgets/base",
      "model_module_version": "1.1.0",
      "model_name": "LayoutModel",
      "state": {}
     },
     "a15d2f60b140402fb462798cb1f1ffef": {
      "model_module": "@jupyter-widgets/base",
      "model_module_version": "1.1.0",
      "model_name": "LayoutModel",
      "state": {}
     },
     "c75eedecaf5f408ba904dce53e732035": {
      "model_module": "@jupyter-widgets/controls",
      "model_module_version": "1.4.0",
      "model_name": "SliderStyleModel",
      "state": {
       "description_width": ""
      }
     },
     "fe9a7a83a83a4030af5356c55d3ee75b": {
      "model_module": "@jupyter-widgets/controls",
      "model_module_version": "1.4.0",
      "model_name": "VBoxModel",
      "state": {
       "_dom_classes": [
        "widget-interact"
       ],
       "children": [
        "IPY_MODEL_1c8160ac53d940de9ecfa5a87ed59bb4",
        "IPY_MODEL_34a45279b240490598b1026d6963ff5d",
        "IPY_MODEL_8b100537f0c94bca83c2f2463118070a"
       ],
       "layout": "IPY_MODEL_95780df73abb40c3bfdcefcbe55a3b6b"
      }
     }
    },
    "version_major": 2,
    "version_minor": 0
   }
  }
 },
 "nbformat": 4,
 "nbformat_minor": 2
}
