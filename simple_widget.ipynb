{
 "cells": [
  {
   "cell_type": "code",
   "execution_count": 2,
   "metadata": {},
   "outputs": [
    {
     "data": {
      "application/vnd.jupyter.widget-view+json": {
       "model_id": "6aac1305a6a84869bc9eeda9cc6496f9",
       "version_major": 2,
       "version_minor": 0
      },
      "text/plain": [
       "interactive(children=(FloatSlider(value=1.0, description='x', max=3.0, min=-1.0), FloatSlider(value=1.0, descr…"
      ]
     },
     "metadata": {},
     "output_type": "display_data"
    }
   ],
   "source": [
    "import ipywidgets as widgets\n",
    "from ipywidgets.embed import embed_minimal_html\n",
    "import matplotlib.pyplot as plt\n",
    "\n",
    "@widgets.interact(x=1.0, y=1.0)\n",
    "def g(x, y):\n",
    "    return (x, y)"
   ]
  },
  {
   "cell_type": "code",
   "execution_count": 3,
   "metadata": {},
   "outputs": [
    {
     "name": "stdout",
     "output_type": "stream",
     "text": [
      "7.4.2\n"
     ]
    }
   ],
   "source": [
    "import sys\n",
    "print(widgets.__version__)"
   ]
  },
  {
   "cell_type": "markdown",
   "metadata": {},
   "source": [
    "### Example From Jupyter Notebook Docs"
   ]
  },
  {
   "cell_type": "code",
   "execution_count": 5,
   "metadata": {},
   "outputs": [
    {
     "data": {
      "application/vnd.jupyter.widget-view+json": {
       "model_id": "a8f59741f2284acf81535bdab161801e",
       "version_major": 2,
       "version_minor": 0
      },
      "text/plain": [
       "IntSlider(value=7, continuous_update=False, description='Test:', max=10)"
      ]
     },
     "metadata": {},
     "output_type": "display_data"
    }
   ],
   "source": [
    "widgets.IntSlider(\n",
    "    value=7,\n",
    "    min=0,\n",
    "    max=10,\n",
    "    step=1,\n",
    "    description='Test:',\n",
    "    disabled=False,\n",
    "    continuous_update=False,\n",
    "    orientation='horizontal',\n",
    "    readout=True,\n",
    "    readout_format='d'\n",
    ")"
   ]
  },
  {
   "cell_type": "code",
   "execution_count": null,
   "metadata": {},
   "outputs": [],
   "source": []
  }
 ],
 "metadata": {
  "kernelspec": {
   "display_name": "Python 3",
   "language": "python",
   "name": "python3"
  },
  "language_info": {
   "codemirror_mode": {
    "name": "ipython",
    "version": 3
   },
   "file_extension": ".py",
   "mimetype": "text/x-python",
   "name": "python",
   "nbconvert_exporter": "python",
   "pygments_lexer": "ipython3",
   "version": "3.6.8"
  },
  "widgets": {
   "application/vnd.jupyter.widget-state+json": {
    "state": {
     "01da6ceacd194036948451102df6c089": {
      "model_module": "@jupyter-widgets/base",
      "model_module_version": "1.1.0",
      "model_name": "LayoutModel",
      "state": {}
     },
     "0ebdfc4990cd47298789ff11c71240f0": {
      "model_module": "@jupyter-widgets/controls",
      "model_module_version": "1.4.0",
      "model_name": "FloatSliderModel",
      "state": {
       "description": "y",
       "layout": "IPY_MODEL_0f964195cd8445468014ee5876e96685",
       "max": 3,
       "min": -1,
       "step": 0.1,
       "style": "IPY_MODEL_d2dce6ce066f4dbb90e6bdfbcecf54a3",
       "value": 1
      }
     },
     "0f964195cd8445468014ee5876e96685": {
      "model_module": "@jupyter-widgets/base",
      "model_module_version": "1.1.0",
      "model_name": "LayoutModel",
      "state": {}
     },
     "1c8160ac53d940de9ecfa5a87ed59bb4": {
      "model_module": "@jupyter-widgets/controls",
      "model_module_version": "1.4.0",
      "model_name": "FloatSliderModel",
      "state": {
       "description": "x",
       "layout": "IPY_MODEL_976e974c39e9412bba688d72d4c9f7cb",
       "max": 3,
       "min": -1,
       "step": 0.1,
       "style": "IPY_MODEL_47d9633608674e79a5fa5b264eceee68",
       "value": 1
      }
     },
     "2c6cb4b1cb01434bb0f2be68137ed4ab": {
      "model_module": "@jupyter-widgets/controls",
      "model_module_version": "1.4.0",
      "model_name": "IntSliderModel",
      "state": {
       "continuous_update": false,
       "description": "Test:",
       "layout": "IPY_MODEL_9a02e4e036174e41b135017ed1611ae9",
       "max": 10,
       "style": "IPY_MODEL_a78039343f744d56831f465ae99cd41f",
       "value": 4
      }
     },
     "2c7e764be4ca451bbe8a30c72b950bdb": {
      "model_module": "@jupyter-widgets/base",
      "model_module_version": "1.1.0",
      "model_name": "LayoutModel",
      "state": {}
     },
     "34a45279b240490598b1026d6963ff5d": {
      "model_module": "@jupyter-widgets/controls",
      "model_module_version": "1.4.0",
      "model_name": "FloatSliderModel",
      "state": {
       "description": "y",
       "layout": "IPY_MODEL_a15d2f60b140402fb462798cb1f1ffef",
       "max": 3,
       "min": -1,
       "step": 0.1,
       "style": "IPY_MODEL_c75eedecaf5f408ba904dce53e732035",
       "value": 1
      }
     },
     "35117dbce4ca4140b505fdc59070a504": {
      "model_module": "@jupyter-widgets/base",
      "model_module_version": "1.1.0",
      "model_name": "LayoutModel",
      "state": {}
     },
     "3bb61c97316742ccbb1361b64f687a87": {
      "model_module": "@jupyter-widgets/base",
      "model_module_version": "1.1.0",
      "model_name": "LayoutModel",
      "state": {}
     },
     "45270892fcef4519beeb70c2afabd633": {
      "model_module": "@jupyter-widgets/controls",
      "model_module_version": "1.4.0",
      "model_name": "FloatSliderModel",
      "state": {
       "description": "x",
       "layout": "IPY_MODEL_35117dbce4ca4140b505fdc59070a504",
       "max": 3,
       "min": -1,
       "step": 0.1,
       "style": "IPY_MODEL_9e9f9b4f9f664e65a55c63834b314b1e",
       "value": 1
      }
     },
     "47d9633608674e79a5fa5b264eceee68": {
      "model_module": "@jupyter-widgets/controls",
      "model_module_version": "1.4.0",
      "model_name": "SliderStyleModel",
      "state": {
       "description_width": ""
      }
     },
     "6aac1305a6a84869bc9eeda9cc6496f9": {
      "model_module": "@jupyter-widgets/controls",
      "model_module_version": "1.4.0",
      "model_name": "VBoxModel",
      "state": {
       "_dom_classes": [
        "widget-interact"
       ],
       "children": [
        "IPY_MODEL_45270892fcef4519beeb70c2afabd633",
        "IPY_MODEL_0ebdfc4990cd47298789ff11c71240f0",
        "IPY_MODEL_7894b227782141938ca28bb273d071ba"
       ],
       "layout": "IPY_MODEL_01da6ceacd194036948451102df6c089"
      }
     },
     "6f73f94b8cd64266a8023fa6fba70034": {
      "model_module": "@jupyter-widgets/base",
      "model_module_version": "1.1.0",
      "model_name": "LayoutModel",
      "state": {}
     },
     "78532882e1bf47d9ae05c86d002c3295": {
      "model_module": "@jupyter-widgets/controls",
      "model_module_version": "1.4.0",
      "model_name": "SliderStyleModel",
      "state": {
       "description_width": ""
      }
     },
     "7894b227782141938ca28bb273d071ba": {
      "model_module": "@jupyter-widgets/output",
      "model_module_version": "1.0.0",
      "model_name": "OutputModel",
      "state": {
       "layout": "IPY_MODEL_6f73f94b8cd64266a8023fa6fba70034",
       "outputs": [
        {
         "data": {
          "text/plain": "(1.0, 1.0)"
         },
         "metadata": {},
         "output_type": "display_data"
        }
       ]
      }
     },
     "8b100537f0c94bca83c2f2463118070a": {
      "model_module": "@jupyter-widgets/output",
      "model_module_version": "1.0.0",
      "model_name": "OutputModel",
      "state": {
       "layout": "IPY_MODEL_3bb61c97316742ccbb1361b64f687a87",
       "outputs": [
        {
         "data": {
          "text/plain": "(1.0, 1.0)"
         },
         "metadata": {},
         "output_type": "display_data"
        }
       ]
      }
     },
     "95780df73abb40c3bfdcefcbe55a3b6b": {
      "model_module": "@jupyter-widgets/base",
      "model_module_version": "1.1.0",
      "model_name": "LayoutModel",
      "state": {}
     },
     "976e974c39e9412bba688d72d4c9f7cb": {
      "model_module": "@jupyter-widgets/base",
      "model_module_version": "1.1.0",
      "model_name": "LayoutModel",
      "state": {}
     },
     "9a02e4e036174e41b135017ed1611ae9": {
      "model_module": "@jupyter-widgets/base",
      "model_module_version": "1.1.0",
      "model_name": "LayoutModel",
      "state": {}
     },
     "9e9f9b4f9f664e65a55c63834b314b1e": {
      "model_module": "@jupyter-widgets/controls",
      "model_module_version": "1.4.0",
      "model_name": "SliderStyleModel",
      "state": {
       "description_width": ""
      }
     },
     "a15d2f60b140402fb462798cb1f1ffef": {
      "model_module": "@jupyter-widgets/base",
      "model_module_version": "1.1.0",
      "model_name": "LayoutModel",
      "state": {}
     },
     "a78039343f744d56831f465ae99cd41f": {
      "model_module": "@jupyter-widgets/controls",
      "model_module_version": "1.4.0",
      "model_name": "SliderStyleModel",
      "state": {
       "description_width": ""
      }
     },
     "a8f59741f2284acf81535bdab161801e": {
      "model_module": "@jupyter-widgets/controls",
      "model_module_version": "1.4.0",
      "model_name": "IntSliderModel",
      "state": {
       "continuous_update": false,
       "description": "Test:",
       "layout": "IPY_MODEL_2c7e764be4ca451bbe8a30c72b950bdb",
       "max": 10,
       "style": "IPY_MODEL_78532882e1bf47d9ae05c86d002c3295",
       "value": 7
      }
     },
     "c75eedecaf5f408ba904dce53e732035": {
      "model_module": "@jupyter-widgets/controls",
      "model_module_version": "1.4.0",
      "model_name": "SliderStyleModel",
      "state": {
       "description_width": ""
      }
     },
     "d2dce6ce066f4dbb90e6bdfbcecf54a3": {
      "model_module": "@jupyter-widgets/controls",
      "model_module_version": "1.4.0",
      "model_name": "SliderStyleModel",
      "state": {
       "description_width": ""
      }
     },
     "fe9a7a83a83a4030af5356c55d3ee75b": {
      "model_module": "@jupyter-widgets/controls",
      "model_module_version": "1.4.0",
      "model_name": "VBoxModel",
      "state": {
       "_dom_classes": [
        "widget-interact"
       ],
       "children": [
        "IPY_MODEL_1c8160ac53d940de9ecfa5a87ed59bb4",
        "IPY_MODEL_34a45279b240490598b1026d6963ff5d",
        "IPY_MODEL_8b100537f0c94bca83c2f2463118070a"
       ],
       "layout": "IPY_MODEL_95780df73abb40c3bfdcefcbe55a3b6b"
      }
     }
    },
    "version_major": 2,
    "version_minor": 0
   }
  }
 },
 "nbformat": 4,
 "nbformat_minor": 2
}
