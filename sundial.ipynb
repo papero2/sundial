{
 "cells": [
  {
   "cell_type": "code",
   "execution_count": 3,
   "metadata": {},
   "outputs": [],
   "source": [
    "import math\n",
    "import numpy as np\n",
    "import matplotlib.pyplot as plt\n",
    "import matplotlib.patches as patches"
   ]
  },
  {
   "cell_type": "code",
   "execution_count": 4,
   "metadata": {},
   "outputs": [],
   "source": [
    "#SELECT THE CITY:\n",
    "#city, lat, longit, GMT = 'North Pole', 89.9, 0, 0\n",
    "#city, lat, longit, GMT = 'Alert', 82, 62, 4\n",
    "#city, lat, longit, GMT = 'Qanaaq', 77, 69, 4\n",
    "\n",
    "#ARCTIC\n",
    "#city, lat, longit, GMT = 'Reykjavic', 66.57, 21, 1\n",
    "#city, lat, longit, GMT = 'Amsterdam', 52, 4, 0\n",
    "#city, lat, longit, GMT = 'Bienne', 46.5, 6, 1\n",
    "city, lat, longit, GMT = 'Lugano', 46.01, 8.96, 1 \n",
    "#city, lat, longit, GMT = 'Athens', 37, 20, 1\n",
    "#city, lat, longit, GMT = 'Shangai', 31.01, 121, 8\n",
    "\n",
    "#TROPIC\n",
    "#city, lat, longit, GMT = 'Dubai', 23.43, 55, 4\n",
    "#city, lat, longit, GMT = 'Bogota', 15.36, 74.05, 5\n",
    "#city, lat, longit, GMT = 'Nairobi', 1, 36, 3\n",
    "#city, lat, longit, GMT = 'Equador', 0.01, 18, 1\n",
    "\n",
    "#city, lat, longit, GMT = 'Mar Del Plata', -38, -57, 4\n",
    "#city, lat, longit, GMT = 'Ushuaia', -54, -68, 4\n",
    "#city, lat, longit, GMT = 'Cape Town', -55, 22, 3"
   ]
  },
  {
   "cell_type": "code",
   "execution_count": 5,
   "metadata": {},
   "outputs": [],
   "source": [
    "DLS=0\n",
    "stilo = 6.3\n",
    "tilt = 23.43\n",
    "size = 25\n",
    "\n",
    "local_time = range (7, 19)\n",
    "angles = [0]*12\n",
    "sun_altitude = [0]*12\n",
    "length_shade = [0]*12\n",
    "S1 = [0]*12\n",
    "S2 = [0]*12\n",
    "W1 = [0]*12\n",
    "W2 = [0]*12\n",
    "temp = [0]*12"
   ]
  },
  {
   "cell_type": "code",
   "execution_count": 12,
   "metadata": {},
   "outputs": [
    {
     "data": {
      "image/png": "[encoded data removed]",
      "text/plain": [
       "<Figure size 432x288 with 1 Axes>"
      ]
     },
     "metadata": {
      "needs_background": "light"
     },
     "output_type": "display_data"
    }
   ],
   "source": [
    "def plot_sundial(lat, longit, tilt, city=''):\n",
    "    \n",
    "    lat+=0.00001\n",
    "    longit+=0.00001\n",
    "    A = [0, stilo/math.tan(math.radians(lat))]\n",
    "    B = [0, 0]\n",
    "    C = [0, -stilo/math.tan(math.radians(90-lat+tilt))]\n",
    "    D = [0, -stilo/math.tan(math.radians(90-lat))]\n",
    "    E = [0, -stilo/math.tan(math.radians(90-lat-tilt))]\n",
    "    F = [stilo, 0]\n",
    "\n",
    "# CALCULATE ANGLES\n",
    "    for i in range (len(local_time)):\n",
    "        angles[i] = math.degrees(math.atan(math.tan(math.radians(longit+15*(local_time[i]-12-GMT)))*math.sin(math.radians(lat))))\n",
    "\n",
    "# CALCULATE SUMMER SOLSTICE\n",
    "\n",
    "    for i in range (len(local_time)):\n",
    "        sun_altitude[i] = math.degrees(math.asin(math.cos(math.radians((local_time[i]-12)*15-(GMT*15-longit)))*math.cos(math.radians(lat))*math.cos(math.radians(tilt))+math.sin(math.radians(lat))*math.sin(math.radians(tilt))))\n",
    "        length_shade[i] = stilo/math.tan(math.radians(sun_altitude[i]))\n",
    "        temp[i] = angles[i]+math.degrees(math.asin(A[1]/length_shade[i]*math.sin(math.radians(angles[i])))) \n",
    "        S1[i] = length_shade[i]*math.sin(math.radians(temp[i]))\n",
    "        S2[i] = length_shade[i]*math.cos(math.radians(temp[i]))\n",
    "\n",
    "# y = -stilo * sin(lat)cos(lat)+sin(tilt)*sqrt(x**2*(cos(lat)*cos(lat)-sin(tilt)*sin(tilt))+stilo**2 * cos(tilt)*cos(tilt)))/sin(tilt)*sin(tilt) - cos(lat)*cos(lat)\n",
    "    x = np.arange(-size, size, 0.01)\n",
    "    s = -(-stilo * np.sin(np.radians(lat))*np.cos(np.radians(lat)) + np.sin(np.radians(tilt)) * np.sqrt(((x**2 * (np.cos(np.radians(lat))*np.cos(np.radians(lat))-np.sin(np.radians(tilt))*np.sin(np.radians(tilt))) + stilo**2 * np.cos(np.radians(tilt))*np.cos(np.radians(tilt))))))/(np.sin(np.radians(tilt))*np.sin(np.radians(tilt)) - np.cos(np.radians(lat))*np.cos(np.radians(lat))) \n",
    "    line, = plt.plot(x, s, lw=1, zorder=1, color = 'whitesmoke')\n",
    "    s2 = -(-stilo * np.sin(np.radians(lat))*np.cos(np.radians(lat)) + np.sin(np.radians(-tilt)) * np.sqrt(((x**2 * (np.cos(np.radians(lat))*np.cos(np.radians(lat))-np.sin(np.radians(-tilt))*np.sin(np.radians(-tilt))) + stilo**2 * np.cos(np.radians(-tilt))*np.cos(np.radians(-tilt))))))/(np.sin(np.radians(-tilt))*np.sin(np.radians(-tilt)) - np.cos(np.radians(lat))*np.cos(np.radians(lat))) \n",
    "    line2, = plt.plot(x, s2, lw=1, zorder=1, color = 'whitesmoke')\n",
    "\n",
    "# CALCULATE WINTER SOLSTICE\n",
    "    \n",
    "    for j in range (len(local_time)):\n",
    "        sun_altitude[j] = math.degrees(math.asin(math.cos(math.radians((local_time[j]-12)*15-(GMT*15-longit)))*math.cos(math.radians(lat))*math.cos(math.radians(-tilt))+math.sin(math.radians(lat))*math.sin(math.radians(-tilt))))\n",
    "        length_shade[j] = stilo/math.tan(math.radians(sun_altitude[j]))\n",
    "        temp[j] = angles[j]+math.degrees(math.asin(A[1]/length_shade[j]*math.sin(math.radians(angles[j])))) \n",
    "        if sun_altitude[j] >= 0:\n",
    "            W1[j] = length_shade[j]*math.sin(math.radians(temp[j]))\n",
    "            W2[j] = length_shade[j]*math.cos(math.radians(temp[j]))\n",
    "        elif sun_altitude[j] < 0:\n",
    "            W1[j] = -(A[1]+size)/math.tan(math.radians(90+angles[j]))\n",
    "            W2[j] = size\n",
    "        \n",
    "    plt.text(-size+3.7, size-2.1, city, fontsize='9')\n",
    "    plt.text(-size+11, size-2.1, u'%.2f° N - %.2f° E ' % (lat, longit), fontsize='6')\n",
    "\n",
    "    plt.plot(A[0], A[1], 'm.')\n",
    "    plt.plot(B[0], B[1], 'r.')\n",
    "    plt.plot(C[0], C[1], 'b.')\n",
    "    plt.plot(D[0], D[1], 'b.')\n",
    "    plt.plot(F[0], F[1], 'g.')\n",
    "\n",
    "    for i in range (len(local_time)):\n",
    "        z=1.4\n",
    "        if local_time[i]== 11:\n",
    "           z=3\n",
    "        plt.plot([-S1[i], -W1[i]],[-S2[i], -W2[i]], zorder=1)\n",
    "\n",
    "    plt.plot([-size, size],[D[1], D[1]], zorder=1, linestyle='--', linewidth=0.7)\n",
    "\n",
    "    plt.text(-size+0.4, A[1]-(size-0.4)*(S2[11]-W2[11])/(S1[11]-W1[11]), '%d' %(18+DLS), fontsize='9')\n",
    "    plt.text(-size+0.4, A[1]-(size-0.4)*(S2[10]-W2[10])/(S1[10]-W1[10]), '%d' %(17+DLS), fontsize='9')\n",
    "    plt.text(-size+0.4, A[1]-(size-0.4)*(S2[9]-W2[9])/(S1[9]-W1[9]), '%d' %(16+DLS), fontsize='9')\n",
    "\n",
    "    plt.text(((-size+0.8)-A[1])/((S2[8]-W2[8])/(S1[8]-W1[8]))-0.6, -size+0.8, '%d' %(15+DLS), fontsize='9')\n",
    "    plt.text(((-size+0.8)-A[1])/((S2[7]-W2[7])/(S1[7]-W1[7]))-0.6, -size+0.8, '%d' %(14+DLS), fontsize='9')\n",
    "    plt.text(((-size+0.8)-A[1])/((S2[6]-W2[6])/(S1[6]-W1[6]))-0.6, -size+0.8, '%d' %(13+DLS), fontsize='9')\n",
    "    plt.text(((-size+0.8)-A[1])/((S2[5]-W2[5])/(S1[5]-W1[5]))-0.6, -size+0.8, '%d' %(12+DLS), fontsize='9')\n",
    "    plt.text(((-size+0.8)-A[1])/((S2[4]-W2[4])/(S1[4]-W1[4]))-0.6, -size+0.8, '%d' %(11+DLS), fontsize='9')\n",
    "    plt.text(((-size+0.8)-A[1])/((S2[3]-W2[3])/(S1[3]-W1[3]))-0.6, -size+0.8, '%d' %(10+DLS), fontsize='9')\n",
    "\n",
    "    plt.text(size-2, A[1]+(size-0.4)*(S2[0]-W2[0])/(S1[0]-W1[0]), '%d' %(7+DLS), fontsize='9')\n",
    "    plt.text(size-2, A[1]+(size-0.4)*(S2[1]-W2[1])/(S1[1]-W1[1]), '%d' %(8+DLS), fontsize='9')\n",
    "    plt.text(size-2, A[1]+(size-0.4)*(S2[2]-W2[2])/(S1[2]-W1[2]), '%d' %(9+DLS), fontsize='9')\n",
    "\n",
    "    plt.text(-0.2, size-1, u'\\u25b2' , fontsize='6')\n",
    "    plt.text(0, size-2.5, 'S' , fontsize='6')\n",
    "    plt.text(-size+3.55, D[1]-1.4, '21 Sep', fontsize='6')\n",
    "\n",
    "    rectangle1 = plt.Rectangle((-size, -size), 3, 2*size, zorder=2, fc='whitesmoke')\n",
    "    rectangle2 = plt.Rectangle((size-3, -size), 3, 2*size, zorder=2, fc='whitesmoke')\n",
    "    rectangle3 = plt.Rectangle((-size, -size), 2*size, 3, zorder=2, fc='whitesmoke')\n",
    "    rectangle4 = plt.Rectangle((-size+2.3, size-3.7), size-12, 0.1, zorder=2, fc='r')\n",
    "    rectangle5 = plt.Rectangle((-size, -size+0.1), 2*size-0.1, 2*size-0.1, zorder=2, fill= False, linewidth=0.2, fc='r')\n",
    "    rectangle6 = plt.Rectangle((-size, size-3), 2*size, 3, zorder=2, fc='whitesmoke')\n",
    "    plt.gca().add_patch(rectangle1)\n",
    "    plt.gca().add_patch(rectangle2)\n",
    "    plt.gca().add_patch(rectangle3)\n",
    "    plt.gca().add_patch(rectangle5)\n",
    "    plt.gca().add_patch(rectangle6)\n",
    "\n",
    "    plt.axis([-size, size, -size, size])\n",
    "    plt.axis('off')\n",
    "    plt.xlim=(-size, size)\n",
    "    plt.ylim=(-size, size)\n",
    "    plt.gca().set_aspect('equal', adjustable='box')\n",
    "    plt.axes()\n",
    "\n",
    "\n",
    "    plt.show()\n",
    "\n",
    "plot_sundial(lat, longit, tilt, city)"
   ]
  },
  {
   "cell_type": "markdown",
   "metadata": {},
   "source": [
    "### Look at how the sundial changes at different latitudes and with different planet tilts"
   ]
  },
  {
   "cell_type": "code",
   "execution_count": 14,
   "metadata": {},
   "outputs": [
    {
     "data": {
      "application/vnd.jupyter.widget-view+json": {
       "model_id": "33150c7aaaeb4f3aaf4019721b5021ab",
       "version_major": 2,
       "version_minor": 0
      },
      "text/plain": [
       "interactive(children=(IntSlider(value=45, description='lat', max=90), IntSlider(value=15, description='longit'…"
      ]
     },
     "metadata": {},
     "output_type": "display_data"
    },
    {
     "data": {
      "text/plain": [
       "<function __main__.plot_sundial(lat, longit, tilt, city='')>"
      ]
     },
     "execution_count": 14,
     "metadata": {},
     "output_type": "execute_result"
    }
   ],
   "source": [
    "import ipywidgets as widgets\n",
    "\n",
    "widgets.interact(plot_sundial, lat=widgets.IntSlider(min=0,max=90,step=1,value=45), longit=widgets.IntSlider(min=-90,max=90,step=1,value=15), tilt=widgets.IntSlider(min=0,max=90,step=1,value=23))"
   ]
  },
  {
   "cell_type": "code",
   "execution_count": 4,
   "metadata": {},
   "outputs": [],
   "source": []
  }
 ],
 "metadata": {
  "kernelspec": {
   "display_name": "Python 3",
   "language": "python",
   "name": "python3"
  },
  "language_info": {
   "codemirror_mode": {
    "name": "ipython",
    "version": 3
   },
   "file_extension": ".py",
   "mimetype": "text/x-python",
   "name": "python",
   "nbconvert_exporter": "python",
   "pygments_lexer": "ipython3",
   "version": "3.6.8"
  }
 },
 "nbformat": 4,
 "nbformat_minor": 2
}
